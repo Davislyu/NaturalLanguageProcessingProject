{
 "cells": [
  {
   "cell_type": "code",
   "execution_count": 1,
   "metadata": {},
   "outputs": [
    {
     "name": "stderr",
     "output_type": "stream",
     "text": [
      "XGBoost Hyperparameter Tuning:   0%|          | 0/27 [00:00<?, ?it/s]"
     ]
    },
    {
     "ename": "",
     "evalue": "",
     "output_type": "error",
     "traceback": [
      "\u001b[1;31mThe Kernel crashed while executing code in the current cell or a previous cell. \n",
      "\u001b[1;31mPlease review the code in the cell(s) to identify a possible cause of the failure. \n",
      "\u001b[1;31mClick <a href='https://aka.ms/vscodeJupyterKernelCrash'>here</a> for more info. \n",
      "\u001b[1;31mView Jupyter <a href='command:jupyter.viewOutput'>log</a> for further details."
     ]
    }
   ],
   "source": [
    "import numpy as np\n",
    "import xgboost as xgb\n",
    "from sklearn.model_selection import train_test_split, GridSearchCV\n",
    "from sklearn.metrics import classification_report, accuracy_score\n",
    "from sklearn.ensemble import RandomForestClassifier, VotingClassifier\n",
    "from sklearn.naive_bayes import GaussianNB\n",
    "from sklearn.pipeline import make_pipeline\n",
    "from sklearn.preprocessing import StandardScaler\n",
    "import joblib\n",
    "from tqdm import tqdm\n",
    "\n",
    "# Load data\n",
    "data = np.load(\"./data/split/Pca_traningSet_labeled.npz\")\n",
    "combined_data = data[\"data\"]\n",
    "embeddings = combined_data[:, :-1]\n",
    "labels = combined_data[:, -1]\n",
    "labels = labels.astype(int) - 1\n",
    "\n",
    "X_train, X_val, y_train, y_val = train_test_split(\n",
    "    embeddings, labels, test_size=0.2, random_state=42\n",
    ")\n",
    "\n",
    "# Hyperparameter tuning for XGBoost with fewer combinations\n",
    "xgb_params = {\n",
    "    \"n_estimators\": [50, 100],\n",
    "    \"learning_rate\": [0.01, 0.1],\n",
    "    \"max_depth\": [3, 6],\n",
    "}\n",
    "model_xgb = xgb.XGBClassifier(objective=\"multi:softmax\", use_label_encoder=False)\n",
    "grid_xgb = GridSearchCV(model_xgb, xgb_params, cv=3)\n",
    "\n",
    "# Display progress with tqdm\n",
    "total_iterations = (\n",
    "    len(xgb_params[\"n_estimators\"])\n",
    "    * len(xgb_params[\"learning_rate\"])\n",
    "    * len(xgb_params[\"max_depth\"])\n",
    ")\n",
    "with tqdm(total=total_iterations, desc=\"XGBoost Hyperparameter Tuning\") as pbar:\n",
    "    for _ in range(total_iterations):\n",
    "        grid_xgb.fit(X_train, y_train)\n",
    "        pbar.update(1)\n",
    "\n",
    "best_xgb = grid_xgb.best_estimator_\n",
    "print(\"Best XGBoost Parameters:\", grid_xgb.best_params_)\n",
    "joblib.dump(best_xgb, \"./models/xgboost_model.joblib\")\n",
    "\n",
    "# Hyperparameter tuning for Random Forest with fewer combinations\n",
    "rf_params = {\n",
    "    \"n_estimators\": [100, 200],\n",
    "    \"max_depth\": [10, 20],\n",
    "    \"min_samples_split\": [2, 5],\n",
    "}\n",
    "model_rf = RandomForestClassifier(random_state=42)\n",
    "grid_rf = GridSearchCV(model_rf, rf_params, cv=3)\n",
    "\n",
    "total_iterations = (\n",
    "    len(rf_params[\"n_estimators\"])\n",
    "    * len(rf_params[\"max_depth\"])\n",
    "    * len(rf_params[\"min_samples_split\"])\n",
    ")\n",
    "with tqdm(total=total_iterations, desc=\"Random Forest Hyperparameter Tuning\") as pbar:\n",
    "    for _ in range(total_iterations):\n",
    "        grid_rf.fit(X_train, y_train)\n",
    "        pbar.update(1)\n",
    "\n",
    "best_rf = grid_rf.best_estimator_\n",
    "print(\"Best Random Forest Parameters:\", grid_rf.best_params_)\n",
    "joblib.dump(best_rf, \"./models/random_forest_model.joblib\")\n",
    "\n",
    "# Naive Bayes (No hyperparameter tuning typically necessary)\n",
    "model_nb = make_pipeline(StandardScaler(), GaussianNB())\n",
    "model_nb.fit(X_train, y_train)\n",
    "joblib.dump(model_nb, \"./models/naive_bayes_model.joblib\")\n",
    "\n",
    "# Voting Classifier (using the best models found)\n",
    "voting_clf = VotingClassifier(\n",
    "    estimators=[(\"xgb\", best_xgb), (\"rf\", best_rf), (\"nb\", model_nb)], voting=\"hard\"\n",
    ")\n",
    "voting_clf.fit(X_train, y_train)\n",
    "joblib.dump(voting_clf, \"./models/voting_classifier_model.joblib\")\n",
    "\n",
    "# Evaluation on Validation Set\n",
    "y_pred_voting = voting_clf.predict(X_val)\n",
    "print(\"Voting Classifier Accuracy:\", accuracy_score(y_val, y_pred_voting))\n",
    "print(\"Voting Classifier Classification Report:\")\n",
    "print(classification_report(y_val, y_pred_voting))\n"
   ]
  },
  {
   "cell_type": "markdown",
   "metadata": {},
   "source": []
  },
  {
   "cell_type": "markdown",
   "metadata": {},
   "source": [
    "XGBoost Hyperparameter Tuning: 100%|█████████████████████████████████████████████████████████████████████████████████████████████████████████████████| 8/8 [06:19<00:00, 47.41s/it]\n",
    "Best XGBoost Parameters: {'learning_rate': 0.1, 'max_depth': 6, 'n_estimators': 100}\n",
    "Random Forest Hyperparameter Tuning: 100%|██████████████████████████████████████████████████████████████████████████████████████████████████████████| 8/8 [13:53<00:00, 104.19s/it]\n",
    "Best Random Forest Parameters: {'max_depth': 20, 'min_samples_split': 5, 'n_estimators': 200}\n",
    "Voting Classifier Accuracy: 0.7331536388140162\n",
    "Voting Classifier Classification Report:\n",
    "              precision    recall  f1-score   support\n",
    "\n",
    "           0       0.69      0.84      0.76       410\n",
    "           1       0.76      0.71      0.74       367\n",
    "           2       0.78      0.62      0.69       336\n",
    "\n",
    "    accuracy                           0.73      1113\n",
    "   macro avg       0.74      0.73      0.73      1113\n",
    "weighted avg       0.74      0.73      0.73      1113\n"
   ]
  }
 ],
 "metadata": {
  "kernelspec": {
   "display_name": "Python 3",
   "language": "python",
   "name": "python3"
  },
  "language_info": {
   "codemirror_mode": {
    "name": "ipython",
    "version": 3
   },
   "file_extension": ".py",
   "mimetype": "text/x-python",
   "name": "python",
   "nbconvert_exporter": "python",
   "pygments_lexer": "ipython3",
   "version": "3.11.3"
  }
 },
 "nbformat": 4,
 "nbformat_minor": 2
}
